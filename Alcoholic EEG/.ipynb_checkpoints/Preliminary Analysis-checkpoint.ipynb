{
 "cells": [
  {
   "cell_type": "markdown",
   "metadata": {},
   "source": [
    "# Preliminary Analysis of Alcoholic EEG Dataset\n",
    "\n",
    "*Disclaimer: The data used in this analysis do not belong to be. I had acquired this dataset from University of California Irvine - Knowledge Discovery in Databases Archive. The original owner and donor are described below. This preliminary analysis script primarily serve as a learning module / tutorials for people interested in analyzing Electroencephalogram Recording using Python*\n",
    "\n",
    "**Original Owner**<br>\n",
    "Henri Begleiter<br>\n",
    "Neurodynamics Laboratory, <br>\n",
    "State University of New York Health Center<br>\n",
    "Brooklyn, New York<br>\n",
    "\n",
    "**Donor**<br>\n",
    "Lester Ingber<br>\n",
    "POB 06440 Sears Tower<br>\n",
    "Chicago, IL 60606<br>\n",
    "ingber@ingber.com<br>\n",
    "Date Donated: October 13, 1999<br>\n",
    "\n",
    "**Code Written By**<br>\n",
    "Jackson Cagle<br>\n",
    "Brain Mapping Laboratory, <br>\n",
    "J. Crayton Pruitt Family Department of Biomedical Engineering, <br>\n",
    "University of Florida <br>"
   ]
  },
  {
   "cell_type": "markdown",
   "metadata": {},
   "source": [
    "## Dataset Description\n",
    "This data arises from a large study to examine EEG correlates of genetic predisposition to alcoholism. It contains measurements from 64 electrodes placed on subject's scalps which were sampled at **256 Hz (3.9-msec epoch) for 1 second**.\n",
    "\n",
    "There were **two groups of subjects: alcoholic and control**. Each subject was exposed to either a single stimulus (S1) or to two stimuli (S1 and S2) which were pictures of objects chosen from the 1980 Snodgrass and Vanderwart picture set. When two stimuli were shown, they were presented in either a matched condition where S1 was identical to S2 or in a non-matched condition where S1 differed from S2.\n",
    "\n",
    "There were 122 subjects and each subject completed 120 trials where different stimuli were shown. The electrode positions were located at standard sites (Standard Electrode Position Nomenclature, American Electroencephalographic Association 1990). **Zhang et al. (1995)** describes in detail the data collection process."
   ]
  },
  {
   "cell_type": "markdown",
   "metadata": {
    "collapsed": true
   },
   "source": [
    "## Literature Review - and Summaries\n",
    "### [1] X.L. Zhang, H. Begleiter, B. Porjesz, W. Wang, and A. Litke. (1995). \"Event related potentials during object recognition tasks\". Brain Research Bulletin. Volume 38. Number 6. Pages 531-538.\n",
    "This is the original paper published with the EEG dataset in this study. The experiment is a simple 90-pictures Matching-Nonmatching Task with 1600ms inter-picture interval. Every 2 pictures (S1 and S2) are considered as one trial, and there is 3.2 seconds intertrial interval. The tasks are randomized into 50% Matching and 50% Nonmatching tasks. **The behavioral data (reaction time) described in the paper is not included in the shared datasets.**\n",
    "\n",
    "The Electroencephalogram recording is 64-Channel Recording, which includes 61-Channel EEG, 2 Channel EOG, and 1 Channel Ground (Nose). The 2 Channel EOG are X, and Y, which should be remove and analyzed separately. \n",
    "\n",
    "The primary discovery of this paper are 1) The significance findings all occur in occipito-temperal region, 2) the Event Related Potential Peak at 250ms is significantly different for Matching and NonMatching Condition, 3) the latency of the peak at 250ms was shortened for matching compared to nonmatching condition, 4) they described the evoke potential at 250ms as Visual Memory Potential which contributed to Visual Short-term Memory. **This paper focus on ERP analysis instead of looking for the difference between Alcoholic and Control subjects.**"
   ]
  },
  {
   "cell_type": "markdown",
   "metadata": {
    "collapsed": true
   },
   "source": [
    "# Main Source Code\n",
    "\n",
    "## Include libraries used in this source code\n",
    "This analysis is built upon MNE (MEG + EEG Analysis and Visualization), to obtain this library please visit http://martinos.org/mne/stable/index.html"
   ]
  },
  {
   "cell_type": "code",
   "execution_count": 1,
   "metadata": {
    "collapsed": false
   },
   "outputs": [],
   "source": [
    "import mne\n",
    "%matplotlib inline \n",
    "import numpy as np\n",
    "import pandas as pd\n",
    "import fnmatch, os\n",
    "\n",
    "Dataset_Path = \"D:/Users/jcagle/Documents/Datasets/Alcoholic EEG/\""
   ]
  },
  {
   "cell_type": "markdown",
   "metadata": {
    "collapsed": true
   },
   "source": [
    "## Custom functions for analysis"
   ]
  },
  {
   "cell_type": "code",
   "execution_count": 2,
   "metadata": {
    "collapsed": false
   },
   "outputs": [],
   "source": [
    "def fullPath(directory, pattern):\n",
    "    files = os.listdir(directory)\n",
    "    selectedFiles = []\n",
    "    for filename in files:\n",
    "        if fnmatch.fnmatch(filename, pattern):\n",
    "            selectedFiles.append(directory + filename)\n",
    "    return selectedFiles\n",
    "\n",
    "def strfind(df, string):\n",
    "    index = []\n",
    "    for x in range(len(df)):\n",
    "        if df[x] == string:\n",
    "            index.append(x)\n",
    "    return index\n",
    "\n",
    "class dataStruct:\n",
    "    def __init__(self, n_epochs, electrodes):\n",
    "        # Setup dataStruct\n",
    "        self.numTrials = 0\n",
    "        self.data = np.empty([n_epochs, 64, 256], dtype=np.float32)\n",
    "        self.trialType = np.empty([n_epochs,1],dtype=np.int8)\n",
    "        self.trialStatus = np.empty_like(self.trialType)\n",
    "        \n",
    "        # Load Information for MNE\n",
    "        self.eeg_ch = electrodes[0] == 'eeg'\n",
    "        self.eog_ch = electrodes[0] == 'eog'\n",
    "        Montage = mne.channels.read_montage(kind='standard_1020',ch_names=electrodes[1][self.eeg_ch].tolist())\n",
    "        self.info = mne.create_info(ch_names=electrodes[1].tolist(), ch_types=electrodes[0].tolist(), sfreq=256, montage=Montage)\n",
    "        \n",
    "    def addTrial(self, filename):\n",
    "        self.data[self.numTrials,:,:] = np.genfromtxt(filename, delimiter=\",\")\n",
    "        self.numTrials = self.numTrials + 1\n",
    "        \n",
    "    def addStatus(self, filename):\n",
    "        data = np.genfromtxt(filename, delimiter=\",\")\n",
    "        self.trialType = data[:,0]\n",
    "        self.trialStatus = data[:,1]\n",
    "        \n",
    "    def importMNE(self):\n",
    "        self.EpochsArray = mne.EpochsArray(self.data[:,np.transpose(self.eeg_ch),:], info=self.info)"
   ]
  },
  {
   "cell_type": "markdown",
   "metadata": {},
   "source": [
    "## Step 1. Import Raw Signal from CSV file\n",
    "This Step will import the data file saved in CSV format to a user-defined dataStruct class. To hold all subjects, we defined a dictionary (non-default dictionary, so error will raise if incorrect ID is called), and the dictionality key will point toward a dataStruct holding the data we imported. The detail of dataStruct class is shown above."
   ]
  },
  {
   "cell_type": "code",
   "execution_count": 3,
   "metadata": {
    "collapsed": false
   },
   "outputs": [],
   "source": [
    "# Prepare Datastruct and Electrodes Location for MNE\n",
    "Data = dict()\n",
    "electrodeConfig = pd.read_csv(Dataset_Path + \"Electrodes.config\",header=None)\n",
    "\n",
    "for Subject in os.listdir(Dataset_Path):\n",
    "    if Subject.startswith(\"co\"):\n",
    "        Trials = fullPath(Dataset_Path + Subject + \"/\", \"*rd*.csv\")\n",
    "        TrialStatus = fullPath(Dataset_Path + Subject + \"/\", Subject + \".csv\")\n",
    "        Data[Subject] = dataStruct(len(Trials), electrodeConfig)\n",
    "        Data[Subject].addStatus(TrialStatus[0])\n",
    "        for trial in Trials:\n",
    "            Data[Subject].addTrial(trial)\n",
    "\n"
   ]
  },
  {
   "cell_type": "code",
   "execution_count": null,
   "metadata": {
    "collapsed": true
   },
   "outputs": [],
   "source": [
    "for Subject in os.listdir(Dataset_Path):\n",
    "    if Subject.startswith(\"co\"):\n",
    "        Trials = fullPath(Dataset_Path + Subject + \"/\", \"*rd*.csv\")\n",
    "        TrialStatus = fullPath(Dataset_Path + Subject + \"/\", Subject + \".csv\")\n",
    "        Data[Subject] = dataStruct(len(Trials), electrodeConfig)\n",
    "        Data[Subject].addStatus(TrialStatus[0])\n",
    "        for trial in Trials:\n",
    "            Data[Subject].addTrial(trial)\n",
    "\n",
    "np.save(Dataset_Path + \"Python_Raw.npy\", Data)"
   ]
  },
  {
   "cell_type": "code",
   "execution_count": 4,
   "metadata": {
    "collapsed": false
   },
   "outputs": [
    {
     "name": "stdout",
     "output_type": "stream",
     "text": [
      "93 matching events found\n",
      "No baseline correction applied\n",
      "0 projection items activated\n",
      "0 bad epochs dropped\n"
     ]
    },
    {
     "name": "stderr",
     "output_type": "stream",
     "text": [
      "D:\\Users\\jcagle\\Anaconda3\\lib\\site-packages\\ipykernel\\__main__.py:40: FutureWarning: in the future, boolean array-likes will be handled as a boolean array index\n"
     ]
    }
   ],
   "source": [
    "Data[Subject].importMNE()"
   ]
  },
  {
   "cell_type": "code",
   "execution_count": 53,
   "metadata": {
    "collapsed": false
   },
   "outputs": [],
   "source": [
    "data = Data[Subject].EpochsArray.copy()"
   ]
  },
  {
   "cell_type": "code",
   "execution_count": 62,
   "metadata": {
    "collapsed": false
   },
   "outputs": [
    {
     "data": {
      "text/plain": [
       "array([  4.92399979e+00,   5.41200018e+00,   5.90000010e+00,\n",
       "         5.90000010e+00,   5.90000010e+00,   5.41200018e+00,\n",
       "         4.92399979e+00,   3.45900011e+00,   1.99399996e+00,\n",
       "         4.10000011e-02,  -1.91199994e+00,  -2.88899994e+00,\n",
       "        -3.37700009e+00,  -3.37700009e+00,  -2.88899994e+00,\n",
       "        -2.40100002e+00,  -9.35999990e-01,   1.01699996e+00,\n",
       "         2.48200011e+00,   4.43499994e+00,   4.43499994e+00,\n",
       "         4.43499994e+00,   4.43499994e+00,   4.43499994e+00,\n",
       "         5.41200018e+00,   5.90000010e+00,   4.43499994e+00,\n",
       "         1.99399996e+00,  -1.91199994e+00,  -5.32999992e+00,\n",
       "        -7.28399992e+00,  -7.77199984e+00,  -7.77199984e+00,\n",
       "        -7.28399992e+00,  -7.28399992e+00,  -7.28399992e+00,\n",
       "        -6.30700016e+00,  -4.84200001e+00,  -3.86599994e+00,\n",
       "        -3.86599994e+00,  -5.32999992e+00,  -6.30700016e+00,\n",
       "        -5.32999992e+00,  -2.88899994e+00,  -4.48000014e-01,\n",
       "         1.01699996e+00,   5.28999984e-01,  -1.42400002e+00,\n",
       "        -4.35400009e+00,  -6.79500008e+00,  -8.26000023e+00,\n",
       "        -9.72500038e+00,  -1.02130003e+01,  -1.02130003e+01,\n",
       "        -1.02130003e+01,  -1.11899996e+01,  -1.16780005e+01,\n",
       "        -1.26549997e+01,  -1.21660004e+01,  -1.02130003e+01,\n",
       "        -7.28399992e+00,  -4.35400009e+00,  -2.88899994e+00,\n",
       "        -1.91199994e+00,  -1.42400002e+00,  -9.35999990e-01,\n",
       "        -9.35999990e-01,  -4.48000014e-01,  -9.35999990e-01,\n",
       "        -2.40100002e+00,  -3.86599994e+00,  -4.84200001e+00,\n",
       "        -5.32999992e+00,  -6.30700016e+00,  -7.77199984e+00,\n",
       "        -9.72500038e+00,  -1.02130003e+01,  -9.23700047e+00,\n",
       "        -7.28399992e+00,  -5.32999992e+00,  -3.86599994e+00,\n",
       "        -2.88899994e+00,  -1.91199994e+00,   4.10000011e-02,\n",
       "         1.50600004e+00,   1.99399996e+00,   1.01699996e+00,\n",
       "        -4.48000014e-01,   4.10000011e-02,   1.50600004e+00,\n",
       "         3.94700003e+00,   4.43499994e+00,   1.99399996e+00,\n",
       "        -1.91199994e+00,  -5.32999992e+00,  -5.81899977e+00,\n",
       "        -4.35400009e+00,  -2.40100002e+00,  -2.88899994e+00,\n",
       "        -5.81899977e+00,  -7.77199984e+00,  -8.74800014e+00,\n",
       "        -6.79500008e+00,  -5.32999992e+00,  -5.32999992e+00,\n",
       "        -6.79500008e+00,  -8.74800014e+00,  -8.74800014e+00,\n",
       "        -7.77199984e+00,  -6.30700016e+00,  -6.30700016e+00,\n",
       "        -8.26000023e+00,  -1.07010002e+01,  -1.21660004e+01,\n",
       "        -1.26549997e+01,  -1.31429996e+01,  -1.55839996e+01,\n",
       "        -1.85139999e+01,  -2.04669991e+01,  -1.99790001e+01,\n",
       "        -1.75370007e+01,  -1.50959997e+01,  -1.36309996e+01,\n",
       "        -1.36309996e+01,  -1.36309996e+01,  -1.21660004e+01,\n",
       "        -9.23700047e+00,  -6.30700016e+00,  -4.35400009e+00,\n",
       "        -3.86599994e+00,  -4.35400009e+00,  -4.84200001e+00,\n",
       "        -4.84200001e+00,  -4.84200001e+00,  -5.81899977e+00,\n",
       "        -7.28399992e+00,  -8.74800014e+00,  -9.23700047e+00,\n",
       "        -9.23700047e+00,  -8.26000023e+00,  -7.28399992e+00,\n",
       "        -6.79500008e+00,  -6.30700016e+00,  -5.81899977e+00,\n",
       "        -4.84200001e+00,  -3.37700009e+00,  -1.42400002e+00,\n",
       "         4.10000011e-02,   1.50600004e+00,   3.45900011e+00,\n",
       "         5.41200018e+00,   6.87699986e+00,   5.90000010e+00,\n",
       "         3.94700003e+00,   1.01699996e+00,   4.10000011e-02,\n",
       "         1.01699996e+00,   3.45900011e+00,   5.41200018e+00,\n",
       "         5.41200018e+00,   1.99399996e+00,  -1.91199994e+00,\n",
       "        -4.84200001e+00,  -4.84200001e+00,  -3.37700009e+00,\n",
       "        -9.35999990e-01,   4.10000011e-02,   4.10000011e-02,\n",
       "        -9.35999990e-01,  -1.42400002e+00,  -9.35999990e-01,\n",
       "         1.01699996e+00,   2.48200011e+00,   2.97000003e+00,\n",
       "         2.97000003e+00,   1.99399996e+00,   1.01699996e+00,\n",
       "        -4.48000014e-01,  -1.91199994e+00,  -2.40100002e+00,\n",
       "        -2.40100002e+00,  -4.48000014e-01,   3.45900011e+00,\n",
       "         7.36499977e+00,   9.31799984e+00,   7.85300016e+00,\n",
       "         4.43499994e+00,   1.01699996e+00,  -1.42400002e+00,\n",
       "        -9.35999990e-01,   4.10000011e-02,   1.01699996e+00,\n",
       "         1.50600004e+00,   4.10000011e-02,  -9.35999990e-01,\n",
       "        -2.40100002e+00,  -1.42400002e+00,   1.50600004e+00,\n",
       "         5.41200018e+00,   8.82999992e+00,   9.80599976e+00,\n",
       "         9.31799984e+00,   8.82999992e+00,   1.07830000e+01,\n",
       "         1.66420002e+01,   2.34780006e+01,   2.93379993e+01,\n",
       "         3.17789993e+01,   3.32439995e+01,   3.66619987e+01,\n",
       "         4.25209999e+01,   5.03339996e+01,   5.81459999e+01,\n",
       "         6.44940033e+01,   6.84000015e+01,   7.18180008e+01,\n",
       "         7.57239990e+01,   8.01190033e+01,   8.45130005e+01,\n",
       "         8.89079971e+01,   9.33020020e+01,   9.86740036e+01,\n",
       "         1.05510002e+02,   1.12349998e+02,   1.17720001e+02,\n",
       "         1.21620003e+02,   1.22599998e+02,   1.22110001e+02,\n",
       "         1.21129997e+02,   1.20160004e+02,   1.19669998e+02,\n",
       "         1.18690002e+02,   1.17720001e+02,   1.16250000e+02,\n",
       "         1.13809998e+02,   1.09900002e+02,   1.05510002e+02,\n",
       "         1.00139999e+02,   9.42789993e+01,   8.89079971e+01,\n",
       "         8.40250015e+01,   7.96309967e+01,   7.52360001e+01,\n",
       "         7.03529968e+01,   6.54700012e+01,   6.05880013e+01,\n",
       "         5.76580009e+01,   5.57050018e+01,   5.47280006e+01,\n",
       "         5.47280006e+01,   5.42400017e+01,   5.22869987e+01,\n",
       "         4.88689995e+01,   4.44739990e+01,   4.00800018e+01,\n",
       "         3.81269989e+01])"
      ]
     },
     "execution_count": 62,
     "metadata": {},
     "output_type": "execute_result"
    }
   ],
   "source": [
    "data.get_data()[7,7,:]"
   ]
  },
  {
   "cell_type": "code",
   "execution_count": 45,
   "metadata": {
    "collapsed": false
   },
   "outputs": [
    {
     "data": {
      "image/png": "[encoded data removed]",
      "text/plain": [
       "<matplotlib.figure.Figure at 0x1a8b07b39b0>"
      ]
     },
     "metadata": {},
     "output_type": "display_data"
    }
   ],
   "source": [
    "plt = meanERP.plot()"
   ]
  },
  {
   "cell_type": "code",
   "execution_count": 57,
   "metadata": {
    "collapsed": false
   },
   "outputs": [
    {
     "ename": "TypeError",
     "evalue": "'Series' objects are mutable, thus they cannot be hashed",
     "output_type": "error",
     "traceback": [
      "\u001b[0;31m---------------------------------------------------------------------------\u001b[0m",
      "\u001b[0;31mTypeError\u001b[0m                                 Traceback (most recent call last)",
      "\u001b[0;32m<ipython-input-57-63f4dbc941e1>\u001b[0m in \u001b[0;36m<module>\u001b[0;34m()\u001b[0m\n\u001b[0;32m----> 1\u001b[0;31m \u001b[0mmne\u001b[0m\u001b[1;33m.\u001b[0m\u001b[0mchannels\u001b[0m\u001b[1;33m.\u001b[0m\u001b[0mread_montage\u001b[0m\u001b[1;33m(\u001b[0m\u001b[0mkind\u001b[0m\u001b[1;33m=\u001b[0m\u001b[1;34m'standard_1020'\u001b[0m\u001b[1;33m,\u001b[0m\u001b[0mch_names\u001b[0m\u001b[1;33m=\u001b[0m\u001b[0mA\u001b[0m\u001b[1;33m[\u001b[0m\u001b[0mA\u001b[0m\u001b[1;33m[\u001b[0m\u001b[1;36m0\u001b[0m\u001b[1;33m]\u001b[0m \u001b[1;33m==\u001b[0m \u001b[1;34m'eeg'\u001b[0m\u001b[1;33m,\u001b[0m\u001b[1;36m1\u001b[0m\u001b[1;33m]\u001b[0m\u001b[1;33m)\u001b[0m\u001b[1;33m\u001b[0m\u001b[0m\n\u001b[0m",
      "\u001b[0;32mD:\\Users\\jcagle\\Anaconda3\\lib\\site-packages\\pandas\\core\\frame.py\u001b[0m in \u001b[0;36m__getitem__\u001b[0;34m(self, key)\u001b[0m\n\u001b[1;32m   1995\u001b[0m             \u001b[1;32mreturn\u001b[0m \u001b[0mself\u001b[0m\u001b[1;33m.\u001b[0m\u001b[0m_getitem_multilevel\u001b[0m\u001b[1;33m(\u001b[0m\u001b[0mkey\u001b[0m\u001b[1;33m)\u001b[0m\u001b[1;33m\u001b[0m\u001b[0m\n\u001b[1;32m   1996\u001b[0m         \u001b[1;32melse\u001b[0m\u001b[1;33m:\u001b[0m\u001b[1;33m\u001b[0m\u001b[0m\n\u001b[0;32m-> 1997\u001b[0;31m             \u001b[1;32mreturn\u001b[0m \u001b[0mself\u001b[0m\u001b[1;33m.\u001b[0m\u001b[0m_getitem_column\u001b[0m\u001b[1;33m(\u001b[0m\u001b[0mkey\u001b[0m\u001b[1;33m)\u001b[0m\u001b[1;33m\u001b[0m\u001b[0m\n\u001b[0m\u001b[1;32m   1998\u001b[0m \u001b[1;33m\u001b[0m\u001b[0m\n\u001b[1;32m   1999\u001b[0m     \u001b[1;32mdef\u001b[0m \u001b[0m_getitem_column\u001b[0m\u001b[1;33m(\u001b[0m\u001b[0mself\u001b[0m\u001b[1;33m,\u001b[0m \u001b[0mkey\u001b[0m\u001b[1;33m)\u001b[0m\u001b[1;33m:\u001b[0m\u001b[1;33m\u001b[0m\u001b[0m\n",
      "\u001b[0;32mD:\\Users\\jcagle\\Anaconda3\\lib\\site-packages\\pandas\\core\\frame.py\u001b[0m in \u001b[0;36m_getitem_column\u001b[0;34m(self, key)\u001b[0m\n\u001b[1;32m   2002\u001b[0m         \u001b[1;31m# get column\u001b[0m\u001b[1;33m\u001b[0m\u001b[1;33m\u001b[0m\u001b[0m\n\u001b[1;32m   2003\u001b[0m         \u001b[1;32mif\u001b[0m \u001b[0mself\u001b[0m\u001b[1;33m.\u001b[0m\u001b[0mcolumns\u001b[0m\u001b[1;33m.\u001b[0m\u001b[0mis_unique\u001b[0m\u001b[1;33m:\u001b[0m\u001b[1;33m\u001b[0m\u001b[0m\n\u001b[0;32m-> 2004\u001b[0;31m             \u001b[1;32mreturn\u001b[0m \u001b[0mself\u001b[0m\u001b[1;33m.\u001b[0m\u001b[0m_get_item_cache\u001b[0m\u001b[1;33m(\u001b[0m\u001b[0mkey\u001b[0m\u001b[1;33m)\u001b[0m\u001b[1;33m\u001b[0m\u001b[0m\n\u001b[0m\u001b[1;32m   2005\u001b[0m \u001b[1;33m\u001b[0m\u001b[0m\n\u001b[1;32m   2006\u001b[0m         \u001b[1;31m# duplicate columns & possible reduce dimensionality\u001b[0m\u001b[1;33m\u001b[0m\u001b[1;33m\u001b[0m\u001b[0m\n",
      "\u001b[0;32mD:\\Users\\jcagle\\Anaconda3\\lib\\site-packages\\pandas\\core\\generic.py\u001b[0m in \u001b[0;36m_get_item_cache\u001b[0;34m(self, item)\u001b[0m\n\u001b[1;32m   1346\u001b[0m         \u001b[1;34m\"\"\"Return the cached item, item represents a label indexer.\"\"\"\u001b[0m\u001b[1;33m\u001b[0m\u001b[0m\n\u001b[1;32m   1347\u001b[0m         \u001b[0mcache\u001b[0m \u001b[1;33m=\u001b[0m \u001b[0mself\u001b[0m\u001b[1;33m.\u001b[0m\u001b[0m_item_cache\u001b[0m\u001b[1;33m\u001b[0m\u001b[0m\n\u001b[0;32m-> 1348\u001b[0;31m         \u001b[0mres\u001b[0m \u001b[1;33m=\u001b[0m \u001b[0mcache\u001b[0m\u001b[1;33m.\u001b[0m\u001b[0mget\u001b[0m\u001b[1;33m(\u001b[0m\u001b[0mitem\u001b[0m\u001b[1;33m)\u001b[0m\u001b[1;33m\u001b[0m\u001b[0m\n\u001b[0m\u001b[1;32m   1349\u001b[0m         \u001b[1;32mif\u001b[0m \u001b[0mres\u001b[0m \u001b[1;32mis\u001b[0m \u001b[1;32mNone\u001b[0m\u001b[1;33m:\u001b[0m\u001b[1;33m\u001b[0m\u001b[0m\n\u001b[1;32m   1350\u001b[0m             \u001b[0mvalues\u001b[0m \u001b[1;33m=\u001b[0m \u001b[0mself\u001b[0m\u001b[1;33m.\u001b[0m\u001b[0m_data\u001b[0m\u001b[1;33m.\u001b[0m\u001b[0mget\u001b[0m\u001b[1;33m(\u001b[0m\u001b[0mitem\u001b[0m\u001b[1;33m)\u001b[0m\u001b[1;33m\u001b[0m\u001b[0m\n",
      "\u001b[0;32mD:\\Users\\jcagle\\Anaconda3\\lib\\site-packages\\pandas\\core\\generic.py\u001b[0m in \u001b[0;36m__hash__\u001b[0;34m(self)\u001b[0m\n\u001b[1;32m    804\u001b[0m     \u001b[1;32mdef\u001b[0m \u001b[0m__hash__\u001b[0m\u001b[1;33m(\u001b[0m\u001b[0mself\u001b[0m\u001b[1;33m)\u001b[0m\u001b[1;33m:\u001b[0m\u001b[1;33m\u001b[0m\u001b[0m\n\u001b[1;32m    805\u001b[0m         raise TypeError('{0!r} objects are mutable, thus they cannot be'\n\u001b[0;32m--> 806\u001b[0;31m                         ' hashed'.format(self.__class__.__name__))\n\u001b[0m\u001b[1;32m    807\u001b[0m \u001b[1;33m\u001b[0m\u001b[0m\n\u001b[1;32m    808\u001b[0m     \u001b[1;32mdef\u001b[0m \u001b[0m__iter__\u001b[0m\u001b[1;33m(\u001b[0m\u001b[0mself\u001b[0m\u001b[1;33m)\u001b[0m\u001b[1;33m:\u001b[0m\u001b[1;33m\u001b[0m\u001b[0m\n",
      "\u001b[0;31mTypeError\u001b[0m: 'Series' objects are mutable, thus they cannot be hashed"
     ]
    }
   ],
   "source": [
    "mne.channels.read_montage(kind='standard_1020',ch_names=A[A[0] == 'eeg',1])"
   ]
  },
  {
   "cell_type": "code",
   "execution_count": 85,
   "metadata": {
    "collapsed": false
   },
   "outputs": [
    {
     "name": "stdout",
     "output_type": "stream",
     "text": [
      "61\n"
     ]
    },
    {
     "data": {
      "text/plain": [
       "61"
      ]
     },
     "execution_count": 85,
     "metadata": {},
     "output_type": "execute_result"
    }
   ],
   "source": [
    "A = A[A[0] == 'eeg']\n",
    "print(len(list(A[1])))\n",
    "montage = mne.channels.read_montage(kind='standard_1020',ch_names=list(A[1]))\n",
    "len(montage.ch_names)"
   ]
  },
  {
   "cell_type": "code",
   "execution_count": 81,
   "metadata": {
    "collapsed": false
   },
   "outputs": [
    {
     "name": "stdout",
     "output_type": "stream",
     "text": [
      "FPz\n"
     ]
    }
   ],
   "source": [
    "#montage.ch_names[1]\n",
    "\n",
    "for x in list(A[1]):\n",
    "    Find = False\n",
    "    for y in montage.ch_names:\n",
    "        if x == y:\n",
    "            Find = True\n",
    "    if not Find:\n",
    "        print(x)\n",
    "        \n",
    "#default = mne.channels.read_montage(kind='standard_1020')"
   ]
  },
  {
   "cell_type": "code",
   "execution_count": 82,
   "metadata": {
    "collapsed": false
   },
   "outputs": [
    {
     "data": {
      "text/plain": [
       "['LPA',\n",
       " 'RPA',\n",
       " 'Nz',\n",
       " 'Fp1',\n",
       " 'Fpz',\n",
       " 'Fp2',\n",
       " 'AF9',\n",
       " 'AF7',\n",
       " 'AF5',\n",
       " 'AF3',\n",
       " 'AF1',\n",
       " 'AFz',\n",
       " 'AF2',\n",
       " 'AF4',\n",
       " 'AF6',\n",
       " 'AF8',\n",
       " 'AF10',\n",
       " 'F9',\n",
       " 'F7',\n",
       " 'F5',\n",
       " 'F3',\n",
       " 'F1',\n",
       " 'Fz',\n",
       " 'F2',\n",
       " 'F4',\n",
       " 'F6',\n",
       " 'F8',\n",
       " 'F10',\n",
       " 'FT9',\n",
       " 'FT7',\n",
       " 'FC5',\n",
       " 'FC3',\n",
       " 'FC1',\n",
       " 'FCz',\n",
       " 'FC2',\n",
       " 'FC4',\n",
       " 'FC6',\n",
       " 'FT8',\n",
       " 'FT10',\n",
       " 'T9',\n",
       " 'T7',\n",
       " 'C5',\n",
       " 'C3',\n",
       " 'C1',\n",
       " 'Cz',\n",
       " 'C2',\n",
       " 'C4',\n",
       " 'C6',\n",
       " 'T8',\n",
       " 'T10',\n",
       " 'TP9',\n",
       " 'TP7',\n",
       " 'CP5',\n",
       " 'CP3',\n",
       " 'CP1',\n",
       " 'CPz',\n",
       " 'CP2',\n",
       " 'CP4',\n",
       " 'CP6',\n",
       " 'TP8',\n",
       " 'TP10',\n",
       " 'P9',\n",
       " 'P7',\n",
       " 'P5',\n",
       " 'P3',\n",
       " 'P1',\n",
       " 'Pz',\n",
       " 'P2',\n",
       " 'P4',\n",
       " 'P6',\n",
       " 'P8',\n",
       " 'P10',\n",
       " 'PO9',\n",
       " 'PO7',\n",
       " 'PO5',\n",
       " 'PO3',\n",
       " 'PO1',\n",
       " 'POz',\n",
       " 'PO2',\n",
       " 'PO4',\n",
       " 'PO6',\n",
       " 'PO8',\n",
       " 'PO10',\n",
       " 'O1',\n",
       " 'Oz',\n",
       " 'O2',\n",
       " 'O9',\n",
       " 'Iz',\n",
       " 'O10',\n",
       " 'T3',\n",
       " 'T5',\n",
       " 'T4',\n",
       " 'T6',\n",
       " 'M1',\n",
       " 'M2',\n",
       " 'A1',\n",
       " 'A2']"
      ]
     },
     "execution_count": 82,
     "metadata": {},
     "output_type": "execute_result"
    }
   ],
   "source": [
    "default.ch_names"
   ]
  },
  {
   "cell_type": "code",
   "execution_count": null,
   "metadata": {
    "collapsed": true
   },
   "outputs": [],
   "source": []
  }
 ],
 "metadata": {
  "anaconda-cloud": {},
  "kernelspec": {
   "display_name": "Python [conda root]",
   "language": "python",
   "name": "conda-root-py"
  },
  "language_info": {
   "codemirror_mode": {
    "name": "ipython",
    "version": 3
   },
   "file_extension": ".py",
   "mimetype": "text/x-python",
   "name": "python",
   "nbconvert_exporter": "python",
   "pygments_lexer": "ipython3",
   "version": "3.5.2"
  }
 },
 "nbformat": 4,
 "nbformat_minor": 1
}
